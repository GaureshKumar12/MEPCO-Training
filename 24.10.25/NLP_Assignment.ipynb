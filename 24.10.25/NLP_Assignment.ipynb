{
  "cells": [
    {
      "cell_type": "markdown",
      "metadata": {
        "id": "oKt_2tV1cSNq"
      },
      "source": [
        "List of Hands on Experiments:\n",
        "\n"
      ]
    },
    {
      "cell_type": "markdown",
      "metadata": {
        "id": "V6BISrZMca4i"
      },
      "source": [
        "1) Perform various text pre-processing techniques for review data."
      ]
    },
    {
      "cell_type": "code",
      "execution_count": null,
      "metadata": {
        "colab": {
          "base_uri": "https://localhost:8080/"
        },
        "id": "HtGUBnYkWuyB",
        "outputId": "e57522b0-c59c-412c-91ab-bcbf7b7c665e"
      },
      "outputs": [
        {
          "name": "stdout",
          "output_type": "stream",
          "text": [
            "t symbolises the victory of good over evil and light over darkness. People decorate their homes with lights, flowers and rangoli, wear new clothes, and exchange gifts. Special prayers are offered to Goddess Lakshmi for prosperity. Diyas (clay lamps) are lit to signify hope and light's victory.\n",
            "['t symbolises the victory of good over evil and light over darkness.', 'People decorate their homes with lights, flowers and rangoli, wear new clothes, and exchange gifts.', 'Special prayers are offered to Goddess Lakshmi for prosperity.', \"Diyas (clay lamps) are lit to signify hope and light's victory.\"]\n",
            "['t', 'symbolises', 'the', 'victory', 'of', 'good', 'over', 'evil', 'and', 'light', 'over', 'darkness', '.', 'People', 'decorate', 'their', 'homes', 'with', 'lights', ',', 'flowers', 'and', 'rangoli', ',', 'wear', 'new', 'clothes', ',', 'and', 'exchange', 'gifts', '.', 'Special', 'prayers', 'are', 'offered', 'to', 'Goddess', 'Lakshmi', 'for', 'prosperity', '.', 'Diyas', '(', 'clay', 'lamps', ')', 'are', 'lit', 'to', 'signify', 'hope', 'and', 'light', \"'s\", 'victory', '.']\n"
          ]
        },
        {
          "name": "stderr",
          "output_type": "stream",
          "text": [
            "[nltk_data] Downloading package punkt to /root/nltk_data...\n",
            "[nltk_data]   Package punkt is already up-to-date!\n",
            "[nltk_data] Downloading package punkt_tab to /root/nltk_data...\n",
            "[nltk_data]   Package punkt_tab is already up-to-date!\n"
          ]
        }
      ],
      "source": [
        "#Tokeniation\n",
        "f = open('sivakasi.txt')\n",
        "raw = f.read()\n",
        "print(raw)\n",
        "\n",
        "import nltk\n",
        "from nltk.tokenize import sent_tokenize, word_tokenize\n",
        "#word and sentence tokenizer\n",
        "nltk.download('punkt')\n",
        "nltk.download('punkt_tab')\n",
        "print(sent_tokenize(raw))\n",
        "words=word_tokenize(raw)\n",
        "print(words)\n"
      ]
    },
    {
      "cell_type": "code",
      "execution_count": null,
      "metadata": {
        "colab": {
          "base_uri": "https://localhost:8080/"
        },
        "id": "D8ZZ8wgZY0Jg",
        "outputId": "c6ccd98d-2dcd-44b9-b967-b4001260b9aa"
      },
      "outputs": [
        {
          "name": "stdout",
          "output_type": "stream",
          "text": [
            "t symbolises the victory of good over evil and light over darkness. People decorate their homes with lights, flowers and rangoli, wear new clothes, and exchange gifts. Special prayers are offered to Goddess Lakshmi for prosperity. Diyas (clay lamps) are lit to signify hope and light's victory.\n",
            "{'when', \"wasn't\", 'a', 'so', 'too', \"she'd\", 'out', \"haven't\", 'm', 'before', 'do', 'on', 'because', 'from', 'or', 're', 'which', 'aren', 'we', \"couldn't\", 'yours', 'myself', 'nor', 'what', 'wouldn', 'of', \"should've\", 'doesn', \"aren't\", \"isn't\", 'theirs', 'by', 'his', 'shouldn', 'further', 'him', 've', 'until', 'has', \"he'll\", 'to', \"you've\", 'between', 'o', 'didn', 'than', 'was', 'all', 'above', \"they're\", 'd', 'under', 'won', \"doesn't\", 'at', 'few', 'each', \"she's\", \"they'll\", 's', 'i', \"you'd\", 'himself', 'were', 'now', \"shouldn't\", 'any', 'them', 'who', 'that', 'her', \"we'd\", \"mightn't\", 'our', 'am', 'just', 'did', \"hasn't\", 'its', 'isn', 'haven', \"he'd\", 'very', 'they', \"she'll\", \"they'd\", 'those', 'been', 'not', 'whom', 'needn', 'once', 'mustn', 'my', 'can', 'after', \"you're\", 'both', \"hadn't\", 'here', 'such', \"you'll\", 'itself', 'hers', \"needn't\", \"it'd\", \"he's\", 'ours', 'have', \"won't\", 'yourselves', 'don', 'down', 'why', 'and', \"we've\", 'no', 'where', 'with', 'ain', 'wasn', 'below', 'your', 'up', 'll', 'other', 'she', 't', 'same', 'hadn', 'but', \"didn't\", 'for', 'off', 'during', 'will', 'against', \"don't\", 'this', 'only', \"weren't\", \"we'll\", 'there', 'had', 'it', 'mightn', 'how', 'yourself', 'these', \"wouldn't\", 'as', \"it'll\", 'again', 'ma', 'does', 'weren', 'over', 'through', 'me', 'into', 'be', \"mustn't\", 'the', 'you', 'an', 'should', \"i'll\", 'herself', \"i'd\", 'most', 'couldn', 'if', \"i've\", 'is', 'are', 'more', 'their', 'hasn', 'about', \"that'll\", 'having', 'he', \"they've\", 'themselves', \"i'm\", \"it's\", 'own', \"shan't\", 'some', 'then', 'in', 'shan', 'being', \"we're\", 'while', 'doing', 'y', 'ourselves'}\n",
            "['t', 'symbolises', 'the', 'victory', 'of', 'good', 'over', 'evil', 'and', 'light', 'over', 'darkness', '.', 'People', 'decorate', 'their', 'homes', 'with', 'lights', ',', 'flowers', 'and', 'rangoli', ',', 'wear', 'new', 'clothes', ',', 'and', 'exchange', 'gifts', '.', 'Special', 'prayers', 'are', 'offered', 'to', 'Goddess', 'Lakshmi', 'for', 'prosperity', '.', 'Diyas', '(', 'clay', 'lamps', ')', 'are', 'lit', 'to', 'signify', 'hope', 'and', 'light', \"'s\", 'victory', '.']\n",
            "['symbolises', 'victory', 'good', 'evil', 'light', 'darkness', '.', 'People', 'decorate', 'homes', 'lights', ',', 'flowers', 'rangoli', ',', 'wear', 'new', 'clothes', ',', 'exchange', 'gifts', '.', 'Special', 'prayers', 'offered', 'Goddess', 'Lakshmi', 'prosperity', '.', 'Diyas', '(', 'clay', 'lamps', ')', 'lit', 'signify', 'hope', 'light', \"'s\", 'victory', '.']\n"
          ]
        },
        {
          "name": "stderr",
          "output_type": "stream",
          "text": [
            "[nltk_data] Downloading package stopwords to /root/nltk_data...\n",
            "[nltk_data]   Package stopwords is already up-to-date!\n"
          ]
        }
      ],
      "source": [
        "# stop words removal – removing stop words like a, am, the etc.,\n",
        "f = open('sivakasi.txt')\n",
        "raw = f.read()\n",
        "print(raw)\n",
        "import nltk\n",
        "nltk.download('stopwords')\n",
        "from nltk.corpus import stopwords\n",
        "from nltk.tokenize import word_tokenize\n",
        "stop_words = set(stopwords.words('english'))\n",
        "print(stop_words)\n",
        "words=word_tokenize(raw)\n",
        "stop_sentence = [w for w in words if not w in stop_words]\n",
        "stop_sentence = []\n",
        "for w in words:\n",
        "    if w not in stop_words:\n",
        "        stop_sentence.append(w)\n",
        "print(words)\n",
        "print(stop_sentence)\n"
      ]
    },
    {
      "cell_type": "code",
      "execution_count": null,
      "metadata": {
        "colab": {
          "base_uri": "https://localhost:8080/"
        },
        "id": "DBbO-DUqZEd9",
        "outputId": "6253edc1-8601-4006-b9f0-0aab9c9ab4e5"
      },
      "outputs": [
        {
          "name": "stdout",
          "output_type": "stream",
          "text": [
            "\u001b[?25l     \u001b[90m━━━━━━━━━━━━━━━━━━━━━━━━━━━━━━━━━━━━━━━━\u001b[0m \u001b[32m0.0/622.8 kB\u001b[0m \u001b[31m?\u001b[0m eta \u001b[36m-:--:--\u001b[0m\r\u001b[2K     \u001b[91m━━━━━━━━\u001b[0m\u001b[91m╸\u001b[0m\u001b[90m━━━━━━━━━━━━━━━━━━━━━━━━━━━━━━\u001b[0m \u001b[32m143.4/622.8 kB\u001b[0m \u001b[31m4.1 MB/s\u001b[0m eta \u001b[36m0:00:01\u001b[0m\r\u001b[2K     \u001b[91m━━━━━━━━━━━━━━━━━━━━━━━━━━━━━━━━━━━━━━\u001b[0m\u001b[90m╺\u001b[0m \u001b[32m614.4/622.8 kB\u001b[0m \u001b[31m9.9 MB/s\u001b[0m eta \u001b[36m0:00:01\u001b[0m\r\u001b[2K     \u001b[90m━━━━━━━━━━━━━━━━━━━━━━━━━━━━━━━━━━━━━━━\u001b[0m \u001b[32m622.8/622.8 kB\u001b[0m \u001b[31m8.0 MB/s\u001b[0m eta \u001b[36m0:00:00\u001b[0m\n",
            "\u001b[?25h  Preparing metadata (setup.py) ... \u001b[?25l\u001b[?25hdone\n",
            "  Building wheel for autocorrect (setup.py) ... \u001b[?25l\u001b[?25hdone\n"
          ]
        }
      ],
      "source": [
        "!pip install -q autocorrect"
      ]
    },
    {
      "cell_type": "code",
      "execution_count": null,
      "metadata": {
        "colab": {
          "base_uri": "https://localhost:8080/"
        },
        "id": "dnKFJUE1Y8Mi",
        "outputId": "378737bb-7820-4b3c-89a2-c87fbbd6151d"
      },
      "outputs": [
        {
          "name": "stdout",
          "output_type": "stream",
          "text": [
            "natural\n",
            "processing\n"
          ]
        }
      ],
      "source": [
        "#Spelling Correction\n",
        "\n",
        "import autocorrect\n",
        "from autocorrect import Speller\n",
        "\n",
        "spell = Speller(lang='en')\n",
        "\n",
        "# Test words\n",
        "print(spell('naural'))\n",
        "print(spell('processin'))"
      ]
    },
    {
      "cell_type": "code",
      "execution_count": null,
      "metadata": {
        "colab": {
          "base_uri": "https://localhost:8080/"
        },
        "id": "A0BmLzwXa1-W",
        "outputId": "6338e162-fe53-47ba-b298-e5f5211b1277"
      },
      "outputs": [
        {
          "name": "stdout",
          "output_type": "stream",
          "text": [
            "Original Tokens: ['Ntural', 'Luanguage', 'Processin', 'deals', 'with', 'the', 'art', 'of', 'extracting', 'insightes', 'from', 'Natural', 'Languaes']\n",
            "Corrected Sentence: Natural Language Processing deals with the art of extracting insights from Natural Languages\n"
          ]
        },
        {
          "name": "stderr",
          "output_type": "stream",
          "text": [
            "[nltk_data] Downloading package punkt to /root/nltk_data...\n",
            "[nltk_data]   Package punkt is already up-to-date!\n"
          ]
        }
      ],
      "source": [
        "import nltk\n",
        "from nltk.tokenize import word_tokenize\n",
        "from autocorrect import Speller\n",
        "\n",
        "nltk.download('punkt')\n",
        "spell = Speller(lang='en')\n",
        "sentence = \"Ntural Luanguage Processin deals with the art of extracting insightes from Natural Languaes\"\n",
        "\n",
        "# Tokenize sentence\n",
        "tokens = word_tokenize(sentence)\n",
        "print(\"Original Tokens:\", tokens)\n",
        "\n",
        "# Correct each token and rejoin with spaces\n",
        "sent_corrected = ' '.join([spell(word) for word in tokens])\n",
        "print(\"Corrected Sentence:\", sent_corrected)\n"
      ]
    },
    {
      "cell_type": "code",
      "execution_count": null,
      "metadata": {
        "colab": {
          "base_uri": "https://localhost:8080/"
        },
        "id": "KG_Vs9gacn1O",
        "outputId": "c5469b0c-c62b-40d7-dccd-ef0a48c6421c"
      },
      "outputs": [
        {
          "name": "stdout",
          "output_type": "stream",
          "text": [
            "run -> run\n",
            "runner -> runner\n",
            "running -> run\n",
            "ran -> ran\n",
            "runs -> run\n",
            "easily -> easili\n",
            "fairly -> fairli\n"
          ]
        }
      ],
      "source": [
        "#stemming\n",
        "#porter stemmer\n",
        "import nltk\n",
        "from nltk.stem.porter import *\n",
        "p_stemmer = PorterStemmer()\n",
        "words = ['run','runner','running','ran','runs','easily','fairly']\n",
        "for word in words:\n",
        "    print(word+' -> '+p_stemmer.stem(word))"
      ]
    },
    {
      "cell_type": "code",
      "execution_count": null,
      "metadata": {
        "colab": {
          "base_uri": "https://localhost:8080/",
          "height": 35
        },
        "id": "hy_On1LHeQzI",
        "outputId": "235165dd-8d7e-44ba-afed-921e63457432"
      },
      "outputs": [
        {
          "data": {
            "application/vnd.google.colaboratory.intrinsic+json": {
              "type": "string"
            },
            "text/plain": [
              "'eat'"
            ]
          },
          "execution_count": 26,
          "metadata": {},
          "output_type": "execute_result"
        }
      ],
      "source": [
        "#lancaster stemmer\n",
        "import nltk\n",
        "from nltk.stem import LancasterStemmer\n",
        "Lanc_stemmer = LancasterStemmer()\n",
        "Lanc_stemmer.stem('eats')"
      ]
    },
    {
      "cell_type": "code",
      "execution_count": null,
      "metadata": {
        "colab": {
          "base_uri": "https://localhost:8080/",
          "height": 35
        },
        "id": "1STtrjE4c8BK",
        "outputId": "619e4682-cb9a-4827-94a9-458576e08659"
      },
      "outputs": [
        {
          "data": {
            "application/vnd.google.colaboratory.intrinsic+json": {
              "type": "string"
            },
            "text/plain": [
              "'bonjour'"
            ]
          },
          "execution_count": 25,
          "metadata": {},
          "output_type": "execute_result"
        }
      ],
      "source": [
        "#snowball stemmer\n",
        "import nltk\n",
        "from nltk.stem import SnowballStemmer\n",
        "French_stemmer = SnowballStemmer('french')\n",
        "French_stemmer.stem ('Bonjoura')\n"
      ]
    },
    {
      "cell_type": "code",
      "execution_count": null,
      "metadata": {
        "colab": {
          "base_uri": "https://localhost:8080/",
          "height": 35
        },
        "id": "b5YCeqfAeTu4",
        "outputId": "f55b9bba-b1cd-42cb-b87f-b710cd02824f"
      },
      "outputs": [
        {
          "data": {
            "application/vnd.google.colaboratory.intrinsic+json": {
              "type": "string"
            },
            "text/plain": [
              "'car'"
            ]
          },
          "execution_count": 28,
          "metadata": {},
          "output_type": "execute_result"
        }
      ],
      "source": [
        "#RegExp Stemmer\n",
        "import nltk\n",
        "from nltk.stem import RegexpStemmer\n",
        "Reg_stemmer = RegexpStemmer('ing$|s$|e$|able$',min=4)\n",
        "Reg_stemmer.stem('cars')"
      ]
    },
    {
      "cell_type": "code",
      "execution_count": null,
      "metadata": {
        "colab": {
          "base_uri": "https://localhost:8080/",
          "height": 70
        },
        "id": "FjdQQPY-bWZW",
        "outputId": "a308eafa-010d-40d8-92d7-a5f96bbd5291"
      },
      "outputs": [
        {
          "name": "stderr",
          "output_type": "stream",
          "text": [
            "[nltk_data] Downloading package wordnet to /root/nltk_data...\n",
            "[nltk_data]   Package wordnet is already up-to-date!\n"
          ]
        },
        {
          "data": {
            "application/vnd.google.colaboratory.intrinsic+json": {
              "type": "string"
            },
            "text/plain": [
              "'study'"
            ]
          },
          "execution_count": 14,
          "metadata": {},
          "output_type": "execute_result"
        }
      ],
      "source": [
        "#Lemmatization\n",
        "nltk.download('wordnet')\n",
        "from nltk.stem.wordnet import WordNetLemmatizer\n",
        "lemmatizer=WordNetLemmatizer()\n",
        "lemmatizer.lemmatize('studies')\n"
      ]
    },
    {
      "cell_type": "markdown",
      "metadata": {
        "id": "vdaAlnvIeYki"
      },
      "source": [
        " 2.Extraction of text features using BoW, N-Gram, TF-IDF, NER, Word2VEC, Glove\n",
        "and Fast Text"
      ]
    },
    {
      "cell_type": "code",
      "execution_count": null,
      "metadata": {
        "colab": {
          "base_uri": "https://localhost:8080/"
        },
        "id": "FdEmwq3LgITx",
        "outputId": "f2468152-73b1-4973-bf2b-2ddd151872d8"
      },
      "outputs": [
        {
          "name": "stdout",
          "output_type": "stream",
          "text": [
            "   an  and  are  arts  at  becomes  between  both  brained  data  ...  \\\n",
            "0   1    1    0     1   0        0        1     0        0     1  ...   \n",
            "1   0    1    2     1   0        0        0     0        2     0  ...   \n",
            "2   0    1    0     1   1        1        0     1        0     0  ...   \n",
            "3   0    0    0     0   0        0        0     0        0     1  ...   \n",
            "\n",
            "   language  left  natural  of  overlap  part  processing  right  science  \\\n",
            "0         0     0        0   0        1     0           0      0        2   \n",
            "1         0     1        0   0        0     0           0      1        1   \n",
            "2         0     0        0   0        0     0           0      0        1   \n",
            "3         1     0        1   1        0     1           1      0        1   \n",
            "\n",
            "   time  \n",
            "0     0  \n",
            "1     0  \n",
            "2     1  \n",
            "3     0  \n",
            "\n",
            "[4 rows x 26 columns]\n"
          ]
        }
      ],
      "source": [
        "#BOW\n",
        "from sklearn.feature_extraction.text import CountVectorizer\n",
        "corpus = [\n",
        "    'Data Science is an overlap between Arts and Science',\n",
        "    'Generally, Arts graduates are right brained and Science graduates are left-brained',\n",
        "    'Excelling in both Arts and Science at a time becomes difficult',\n",
        "    'Natural Language Processing is a part of Data Science'\n",
        "]\n",
        "\n",
        "bag_of_words_model = CountVectorizer()\n",
        "bag_of_word_df = pd.DataFrame(bag_of_words_model.fit_transform(corpus).todense())\n",
        "bag_of_word_df.columns = sorted(bag_of_words_model.vocabulary_)\n",
        "print(bag_of_word_df.head())\n"
      ]
    },
    {
      "cell_type": "code",
      "execution_count": null,
      "metadata": {
        "colab": {
          "base_uri": "https://localhost:8080/"
        },
        "id": "zE0fFjTOg4Ax",
        "outputId": "081f4d08-b4f7-4d28-ec74-0a3d7fb5b0c1"
      },
      "outputs": [
        {
          "name": "stdout",
          "output_type": "stream",
          "text": [
            "         0         1         2         3         4         5         6   \\\n",
            "0  0.403328  0.257439  0.000000  0.257439  0.000000  0.000000  0.403328   \n",
            "1  0.000000  0.159139  0.498644  0.159139  0.000000  0.000000  0.000000   \n",
            "2  0.000000  0.224449  0.000000  0.224449  0.351643  0.351643  0.000000   \n",
            "3  0.000000  0.000000  0.000000  0.000000  0.000000  0.000000  0.000000   \n",
            "\n",
            "         7         8         9   ...        16        17        18        19  \\\n",
            "0  0.000000  0.000000  0.317989  ...  0.000000  0.000000  0.000000  0.000000   \n",
            "1  0.000000  0.498644  0.000000  ...  0.000000  0.249322  0.000000  0.000000   \n",
            "2  0.351643  0.000000  0.000000  ...  0.000000  0.000000  0.000000  0.000000   \n",
            "3  0.000000  0.000000  0.308872  ...  0.391765  0.000000  0.391765  0.391765   \n",
            "\n",
            "         20        21        22        23        24        25  \n",
            "0  0.403328  0.000000  0.000000  0.000000  0.420947  0.000000  \n",
            "1  0.000000  0.000000  0.000000  0.249322  0.130107  0.000000  \n",
            "2  0.000000  0.000000  0.000000  0.000000  0.183502  0.351643  \n",
            "3  0.000000  0.391765  0.391765  0.000000  0.204439  0.000000  \n",
            "\n",
            "[4 rows x 26 columns]\n"
          ]
        }
      ],
      "source": [
        "#TF-IDF Model\n",
        "import pandas as pd\n",
        "import sklearn\n",
        "from sklearn.feature_extraction.text import TfidfVectorizer\n",
        "\n",
        "corpus = ['Data Science is an overlap between Arts and Science', 'Generally, Arts graduates are right brained and Science graduates are left-brained','Excelling in both Arts and Science at a time becomes difficult','Natural Language Processing is a part of Data Science']\n",
        "tfidf_model = TfidfVectorizer()\n",
        "tfidf_df = pd.DataFrame(tfidf_model.fit_transform(corpus).todense())\n",
        "print(tfidf_df.head())\n",
        "\n"
      ]
    },
    {
      "cell_type": "code",
      "execution_count": null,
      "metadata": {
        "id": "6Fko9_EgiVah"
      },
      "outputs": [],
      "source": [
        "!pip install -q gensim"
      ]
    },
    {
      "cell_type": "code",
      "execution_count": null,
      "metadata": {
        "colab": {
          "base_uri": "https://localhost:8080/"
        },
        "id": "v3DMBuBGhDLm",
        "outputId": "38be5bcd-cca2-43b6-b36b-10956a94fc29"
      },
      "outputs": [
        {
          "name": "stdout",
          "output_type": "stream",
          "text": [
            "[ 8.1745535e-03 -4.4407779e-03  8.9788865e-03  8.2547395e-03\n",
            " -4.4369111e-03  3.0086917e-04  4.2773033e-03 -3.9101243e-03\n",
            " -5.5571049e-03 -6.5226788e-03 -6.6378072e-04 -3.0568306e-04\n",
            "  4.4645211e-03 -2.4670854e-03 -1.7454948e-04  2.4564695e-03\n",
            "  4.8773861e-03 -3.7883947e-05 -6.3361456e-03 -9.2770858e-03\n",
            "  3.0052832e-05  6.6509973e-03  1.4639557e-03 -8.9689782e-03\n",
            " -7.9391589e-03  6.5521947e-03 -3.7863909e-03  6.2600267e-03\n",
            " -6.6796895e-03  8.4809884e-03 -6.5099662e-03  3.2792746e-03\n",
            " -1.0469442e-03 -6.8105264e-03 -3.2902302e-03 -1.1643260e-03\n",
            " -5.4655699e-03 -1.2060212e-03 -7.5666164e-03  2.6489783e-03\n",
            "  9.0666125e-03 -2.3860186e-03 -9.7068702e-04  3.5116058e-03\n",
            "  8.6679114e-03 -5.9345542e-03 -6.8839481e-03 -2.9357728e-03\n",
            "  9.1518555e-03  8.7807840e-04 -8.6755175e-03 -1.4490510e-03\n",
            "  9.4746565e-03 -7.5449655e-03 -5.3621032e-03  9.3068965e-03\n",
            " -8.9600189e-03  3.8288373e-03  6.6185073e-04  6.6604689e-03\n",
            "  8.3080092e-03 -2.8572821e-03 -3.9813570e-03  8.9068757e-03\n",
            "  2.0765278e-03  6.2586600e-03 -9.4426731e-03  9.5974477e-03\n",
            " -1.3635964e-03 -6.0429894e-03  3.0051884e-03 -4.5103810e-04\n",
            "  4.7172238e-03 -2.2791943e-03 -4.1241278e-03  2.2723372e-03\n",
            "  8.3576953e-03 -4.9834382e-03  2.6701873e-03 -7.9892622e-03\n",
            " -6.7852242e-03 -4.7564291e-04 -8.7748747e-03  2.7914268e-03\n",
            "  1.6037797e-03 -2.3258936e-03  5.0047892e-03  9.7543849e-03\n",
            "  8.4584951e-03 -1.8702521e-03  2.0643244e-03 -4.0038279e-03\n",
            " -8.2311928e-03  6.2791696e-03 -1.9445641e-03 -6.6286599e-04\n",
            " -1.7670946e-03 -4.5367377e-03  4.0619811e-03 -4.2675654e-03]\n"
          ]
        }
      ],
      "source": [
        "#Word2Vec\n",
        "from gensim.models import Word2Vec\n",
        "from nltk.tokenize import sent_tokenize, word_tokenize\n",
        "\n",
        "sample = open('sivakasi.txt')\n",
        "s = sample.read().replace(\"\\n\", \" \")\n",
        "\n",
        "data = [word_tokenize(sent.lower()) for sent in sent_tokenize(s)]\n",
        "model = Word2Vec(sentences=data, vector_size=100, window=5, min_count=1, workers=4)\n",
        "print(model.wv['victory'])\n"
      ]
    },
    {
      "cell_type": "code",
      "execution_count": null,
      "metadata": {
        "colab": {
          "base_uri": "https://localhost:8080/"
        },
        "id": "vPg7ykEPv61w",
        "outputId": "59c899a6-726c-46b6-fc36-ec6a19ec35b1"
      },
      "outputs": [
        {
          "data": {
            "text/plain": [
              "[('the', 'cute'),\n",
              " ('cute', 'little'),\n",
              " ('little', 'girl'),\n",
              " ('girl', 'is'),\n",
              " ('is', 'playing'),\n",
              " ('playing', 'with'),\n",
              " ('with', 'the'),\n",
              " ('the', 'kitten.')]"
            ]
          },
          "execution_count": 42,
          "metadata": {},
          "output_type": "execute_result"
        }
      ],
      "source": [
        "#N-Grams\n",
        "import nltk\n",
        "from nltk import ngrams\n",
        "list(ngrams('the cute little girl is playing with the kitten.'.split(),2))\n"
      ]
    },
    {
      "cell_type": "code",
      "execution_count": null,
      "metadata": {
        "colab": {
          "base_uri": "https://localhost:8080/"
        },
        "id": "2HWdw33FzVul",
        "outputId": "9633823c-4cce-4d65-82d3-4ba128b42aa5"
      },
      "outputs": [
        {
          "name": "stdout",
          "output_type": "stream",
          "text": [
            "Barack Obama → PERSON\n",
            "44th → ORDINAL\n",
            "the United States → GPE\n"
          ]
        }
      ],
      "source": [
        "# Named Entity Recognition (NER)\n",
        "import spacy\n",
        "nlp = spacy.load('en_core_web_sm')\n",
        "\n",
        "text = \"Barack Obama was the 44th President of the United States.\"\n",
        "doc = nlp(text)\n",
        "\n",
        "for ent in doc.ents:\n",
        "    print(ent.text, \"→\", ent.label_)\n"
      ]
    },
    {
      "cell_type": "code",
      "execution_count": null,
      "metadata": {
        "colab": {
          "base_uri": "https://localhost:8080/"
        },
        "id": "XMy6ppRHwdvq",
        "outputId": "4bc20be5-d9de-454f-f452-67b3bdb4d526"
      },
      "outputs": [
        {
          "name": "stdout",
          "output_type": "stream",
          "text": [
            "[ 1.2919701e-03 -1.0602611e-04 -1.1323356e-03  1.6584302e-03\n",
            " -5.7117449e-04 -2.9840841e-04 -4.3193492e-04 -3.1250282e-04\n",
            " -1.9898350e-04  9.4852143e-04  1.6994212e-03 -1.8581563e-04\n",
            " -8.1228669e-04 -1.5968895e-03 -1.3839703e-03 -6.3576088e-05\n",
            " -5.7436171e-04 -1.1720147e-03  7.4763177e-04 -2.1684753e-05\n",
            "  4.5981101e-04 -1.7291495e-03 -4.4365969e-04  4.0478929e-04\n",
            "  1.2072949e-04  6.4071972e-04 -1.0785459e-03  1.3050955e-03\n",
            "  3.5044085e-04 -1.8284899e-04 -1.5951110e-04 -1.0465594e-03\n",
            " -1.5170674e-04 -5.7858619e-04 -1.8307484e-03  1.0248278e-03\n",
            "  6.9344341e-04  1.6159177e-03 -8.4400486e-04  8.9535897e-04\n",
            " -1.3508157e-04  2.3538095e-03 -3.7109022e-04 -2.8064058e-04\n",
            "  2.6269807e-04 -2.8326022e-04 -7.7332847e-04  1.8949938e-03\n",
            "  2.1798143e-03 -4.4569728e-04 -6.4175081e-04  1.4240020e-04\n",
            "  2.5182988e-03 -1.5666584e-03  1.3954224e-04 -6.9046958e-04\n",
            "  5.8793183e-04 -1.4282564e-03  2.1278318e-04 -2.2993281e-03\n",
            " -4.3249400e-03 -1.6397990e-03  1.3989839e-03 -1.3229308e-03\n",
            "  2.0258871e-03 -2.9663873e-04 -1.7821314e-03 -1.9624084e-04\n",
            " -3.8101443e-04  1.2712786e-03 -4.8752314e-05 -1.6701949e-03\n",
            " -4.0860524e-04 -2.3929863e-03 -1.1424356e-03 -8.1383681e-04\n",
            " -4.9799628e-04 -1.4722025e-03 -1.8545202e-03 -4.9134775e-04\n",
            "  2.1096619e-03 -3.5232501e-05  3.5016984e-03  1.4268994e-04\n",
            "  7.3083641e-04 -1.6456110e-03 -1.8567833e-03 -8.2786253e-04\n",
            "  2.2351660e-04  2.1772250e-03  1.3073307e-03  7.8967125e-05\n",
            "  2.6948133e-04 -2.0950858e-03  2.1080931e-03  4.0393372e-04\n",
            "  1.4223440e-03  6.8460318e-04  2.4361876e-03  5.3560670e-04]\n"
          ]
        }
      ],
      "source": [
        "#Word Embeddings using FastText\n",
        "\n",
        "from gensim.models import FastText\n",
        "from nltk.tokenize import word_tokenize\n",
        "\n",
        "sentences = [\"FastText embeddings handle subword information.\",\n",
        "             \"It is effective for various languages.\"]\n",
        "tokenized_sentences = [word_tokenize(sentence.lower()) for sentence in sentences]\n",
        "model = FastText(sentences=tokenized_sentences, vector_size=100, window=5, min_count=1, workers=4)\n",
        "\n",
        "word_embeddings = model.wv\n",
        "print(word_embeddings['subword'])\n"
      ]
    },
    {
      "cell_type": "markdown",
      "metadata": {
        "id": "L8qxxXOz-a-K"
      },
      "source": [
        "**List of Assignments to be given**"
      ]
    },
    {
      "cell_type": "markdown",
      "metadata": {
        "id": "2R7D8Ziq-MsG"
      },
      "source": [
        "1. You have to take any text corpus as a “file.txt” that is in improper format. You will\n",
        "perform all the below pre-processing steps:\n",
        "\n",
        "a. Import the necessary libraries\n",
        "\n",
        "b. Load the text corpus to a variable\n",
        "\n",
        "c. Apply the tokenization process to the text corpus and print the first 30 tokens\n",
        "\n",
        "d. Apply spelling correction on each token and print the initial 10 corrected tokens as well as the corrected text corpus\n",
        "\n",
        "e. Apply POS tags to each corrected token and print them\n",
        "\n",
        "f.Remove stop words from the corrected token list and print the initial 20 tokens\n",
        "\n",
        "g. Apply stemming and lemmatization to the corrected token list and the print initial 20 tokens\n",
        "\n",
        "h. Detect the sentence boundaries in the given text corpus and print the total number of sentences."
      ]
    },
    {
      "cell_type": "code",
      "execution_count": null,
      "metadata": {
        "colab": {
          "base_uri": "https://localhost:8080/"
        },
        "id": "8wm5w5OX4JEn",
        "outputId": "edbaec96-33e2-4228-8300-aa142d60ec1d"
      },
      "outputs": [
        {
          "name": "stderr",
          "output_type": "stream",
          "text": [
            "[nltk_data] Downloading package averaged_perceptron_tagger_eng to\n",
            "[nltk_data]     /root/nltk_data...\n",
            "[nltk_data]   Unzipping taggers/averaged_perceptron_tagger_eng.zip.\n",
            "[nltk_data] Downloading package punkt to /root/nltk_data...\n",
            "[nltk_data]   Package punkt is already up-to-date!\n",
            "[nltk_data] Downloading package stopwords to /root/nltk_data...\n",
            "[nltk_data]   Package stopwords is already up-to-date!\n",
            "[nltk_data] Downloading package averaged_perceptron_tagger to\n",
            "[nltk_data]     /root/nltk_data...\n",
            "[nltk_data]   Package averaged_perceptron_tagger is already up-to-\n",
            "[nltk_data]       date!\n",
            "[nltk_data] Downloading package wordnet to /root/nltk_data...\n",
            "[nltk_data]   Package wordnet is already up-to-date!\n"
          ]
        },
        {
          "name": "stdout",
          "output_type": "stream",
          "text": [
            "Original Text:\n",
            " Ths is an exmple txt corpus for NLP preproccesing!  \n",
            "It  contans smoe mistaks, like spellng erors and  extra    spaces.   \n",
            "We will use it to test tokeniztion, corection, POS taggs, stop word removl, and steming.   \n",
            "\n",
            "Text Preprocesing is an impotrant step in Natural Langauge Processing.  \n",
            "Without cle\n",
            "\n",
            "First 30 tokens:\n",
            " ['Ths', 'is', 'an', 'exmple', 'txt', 'corpus', 'for', 'NLP', 'preproccesing', '!', 'It', 'contans', 'smoe', 'mistaks', ',', 'like', 'spellng', 'erors', 'and', 'extra', 'spaces', '.', 'We', 'will', 'use', 'it', 'to', 'test', 'tokeniztion', ',']\n",
            "\n",
            "First 10 corrected tokens:\n",
            " ['The', 'is', 'an', 'example', 'txt', 'corpus', 'for', 'NLP', 'preproccesing', '!']\n",
            "\n",
            "Corrected Text Corpus (Preview):\n",
            " The is an example txt corpus for NLP preproccesing ! It contains some mistake , like spelling errors and extra spaces . He will use it to test tokeniztion , correction , POS tags , stop word removal , and seeming . Next Preprocesing is an important step in Natural Language Processing . Without clean\n",
            "\n",
            "POS Tags (First 20):\n",
            " [('The', 'DT'), ('is', 'VBZ'), ('an', 'DT'), ('example', 'NN'), ('txt', 'NN'), ('corpus', 'NN'), ('for', 'IN'), ('NLP', 'NNP'), ('preproccesing', 'NN'), ('!', '.'), ('It', 'PRP'), ('contains', 'VBZ'), ('some', 'DT'), ('mistake', 'NN'), (',', ','), ('like', 'IN'), ('spelling', 'VBG'), ('errors', 'NNS'), ('and', 'CC'), ('extra', 'JJ')]\n",
            "\n",
            "After Stopword Removal (First 20 tokens):\n",
            " ['example', 'txt', 'corpus', 'NLP', 'preproccesing', 'contains', 'mistake', 'like', 'spelling', 'errors', 'extra', 'spaces', 'use', 'test', 'tokeniztion', 'correction', 'POS', 'tags', 'stop', 'word']\n",
            "\n",
            "Stemmed Tokens (First 20):\n",
            " ['exampl', 'txt', 'corpu', 'nlp', 'preprocces', 'contain', 'mistak', 'like', 'spell', 'error', 'extra', 'space', 'use', 'test', 'tokenizt', 'correct', 'po', 'tag', 'stop', 'word']\n",
            "\n",
            "Lemmatized Tokens (First 20):\n",
            " ['example', 'txt', 'corpus', 'NLP', 'preproccesing', 'contains', 'mistake', 'like', 'spelling', 'error', 'extra', 'space', 'use', 'test', 'tokeniztion', 'correction', 'POS', 'tag', 'stop', 'word']\n",
            "\n",
            "Total number of sentences: 8\n"
          ]
        }
      ],
      "source": [
        "# a. Import the necessary libraries\n",
        "import nltk\n",
        "from nltk.tokenize import word_tokenize, sent_tokenize\n",
        "from nltk.corpus import stopwords\n",
        "from nltk.stem import PorterStemmer, WordNetLemmatizer\n",
        "from textblob import TextBlob\n",
        "import spacy\n",
        "\n",
        "nltk.download('punkt')\n",
        "nltk.download('stopwords')\n",
        "nltk.download('averaged_perceptron_tagger')\n",
        "nltk.download('wordnet')\n",
        "nltk.download('averaged_perceptron_tagger_eng')\n",
        "\n",
        "# b. Load the text corpus to a variable\n",
        "file = open(\"file.txt\", \"r\", encoding=\"utf-8\")\n",
        "text = file.read()\n",
        "file.close()\n",
        "\n",
        "print(\"Original Text:\\n\", text[:300])  # preview first few characters\n",
        "\n",
        "# c. Apply tokenization process\n",
        "tokens = word_tokenize(text)\n",
        "print(\"\\nFirst 30 tokens:\\n\", tokens[:30])\n",
        "\n",
        "# d. Apply spelling correction on each token\n",
        "corrected_tokens = []\n",
        "for token in tokens:\n",
        "    corrected_word = str(TextBlob(token).correct())\n",
        "    corrected_tokens.append(corrected_word)\n",
        "\n",
        "print(\"\\nFirst 10 corrected tokens:\\n\", corrected_tokens[:10])\n",
        "corrected_text = \" \".join(corrected_tokens)\n",
        "print(\"\\nCorrected Text Corpus (Preview):\\n\", corrected_text[:300])\n",
        "\n",
        "# e. Apply POS (Part of Speech) tagging\n",
        "pos_tags = nltk.pos_tag(corrected_tokens)\n",
        "print(\"\\nPOS Tags (First 20):\\n\", pos_tags[:20])\n",
        "\n",
        "# f. Remove stopwords\n",
        "stop_words = set(stopwords.words('english'))\n",
        "filtered_tokens = [word for word in corrected_tokens if word.lower() not in stop_words and word.isalpha()]\n",
        "print(\"\\nAfter Stopword Removal (First 20 tokens):\\n\", filtered_tokens[:20])\n",
        "\n",
        "# g. Apply stemming and lemmatization\n",
        "stemmer = PorterStemmer()\n",
        "lemmatizer = WordNetLemmatizer()\n",
        "\n",
        "stemmed_tokens = [stemmer.stem(word) for word in filtered_tokens]\n",
        "lemmatized_tokens = [lemmatizer.lemmatize(word) for word in filtered_tokens]\n",
        "\n",
        "print(\"\\nStemmed Tokens (First 20):\\n\", stemmed_tokens[:20])\n",
        "print(\"\\nLemmatized Tokens (First 20):\\n\", lemmatized_tokens[:20])\n",
        "\n",
        "# h. Sentence boundary detection\n",
        "sentences = sent_tokenize(corrected_text)\n",
        "print(\"\\nTotal number of sentences:\", len(sentences))\n"
      ]
    },
    {
      "cell_type": "markdown",
      "metadata": {
        "id": "mWJIk0WH9-AN"
      },
      "source": [
        "2. You will extract the specific features from the texts present in the dataset. The dataset that\n",
        "will be using here is fetch_20newsgroups, provided by sklearn library. Follow these steps to\n",
        "implement this activity:\n",
        "\n",
        "a. Import the necessary packages\n",
        "\n",
        "b. Fetch the dataset provided by sklearn and store the data in a Dataframe.\n",
        "\n",
        "c. Clean the data in the Dataframe.\n",
        "\n",
        "d. Create a BoW model\n",
        "\n",
        "e. Create a TF_IDF model\n",
        "\n",
        "f. Compare both models on the basis of the 20 most frequently occurring words."
      ]
    },
    {
      "cell_type": "code",
      "execution_count": null,
      "metadata": {
        "colab": {
          "base_uri": "https://localhost:8080/"
        },
        "id": "n_gkenAw44Ej",
        "outputId": "43dc4c97-527b-40b4-c391-99a53380090f"
      },
      "outputs": [
        {
          "name": "stdout",
          "output_type": "stream",
          "text": [
            "Dataset Loaded Successfully!\n",
            "Shape: (11314, 2)\n",
            "\n",
            "Sample Data:\n",
            "                                                 Text  Category\n",
            "0  I was wondering if anyone out there could enli...         7\n",
            "1  A fair number of brave souls who upgraded thei...         4\n",
            "2  well folks, my mac plus finally gave up the gh...         4\n",
            "3  \\nDo you have Weitek's address/phone number?  ...         1\n",
            "4  From article <C5owCB.n3p@world.std.com>, by to...        14\n",
            "\n",
            "Data cleaned successfully!\n",
            "Sample cleaned text:\n",
            " i was wondering if anyone out there could enlighten me on this car i saw\n",
            "the other day it was a door sports car looked to be from the late s\n",
            "early s it was called a bricklin the doors were really small in addition\n",
            "the front bumper was separate from the rest of the body this is \n",
            "all i know if anyone can tellme a model name engine specs years\n",
            "of production where this car is made history or whatever info you\n",
            "have on this funky looking car please email\n",
            "Top 20 Words (BoW):\n",
            "                                Word  Frequency\n",
            "634                           people       3997\n",
            "487                             like       3885\n",
            "249                             dont       3862\n",
            "450                             just       3747\n",
            "459                             know       3482\n",
            "533  maxaxaxaxaxaxaxaxaxaxaxaxaxaxax       3317\n",
            "924                              use       3161\n",
            "887                            think       2999\n",
            "890                             time       2800\n",
            "246                             does       2773\n",
            "584                              new       2571\n",
            "355                             good       2474\n",
            "409                               im       2436\n",
            "521                             make       2022\n",
            "953                              way       1991\n",
            "925                             used       1865\n",
            "767                              say       1844\n",
            "750                            right       1810\n",
            "228                              did       1754\n",
            "761                             said       1739\n",
            "\n",
            "Top 20 Words (TF-IDF):\n",
            "        Word  TF_IDF_Score\n",
            "450     just    288.117052\n",
            "487     like    286.803030\n",
            "249     dont    275.227770\n",
            "459     know    272.057091\n",
            "887    think    238.483592\n",
            "634   people    236.651469\n",
            "246     does    231.149817\n",
            "409       im    230.983908\n",
            "924      use    211.707362\n",
            "355     good    203.731085\n",
            "880   thanks    196.446331\n",
            "890     time    188.088591\n",
            "584      new    183.042900\n",
            "521     make    155.033449\n",
            "953      way    152.121745\n",
            "579     need    151.507824\n",
            "750    right    147.990918\n",
            "945     want    147.215791\n",
            "683  problem    145.826753\n",
            "228      did    145.813173\n",
            "\n",
            "Comparison of Top 20 Words in BoW vs TF-IDF:\n",
            "                               Word  Frequency  TF_IDF_Score\n",
            "0                               did     1754.0    145.813173\n",
            "1                              does     2773.0    231.149817\n",
            "2                              dont     3862.0    275.227770\n",
            "3                              good     2474.0    203.731085\n",
            "4                                im     2436.0    230.983908\n",
            "5                              just     3747.0    288.117052\n",
            "6                              know     3482.0    272.057091\n",
            "7                              like     3885.0    286.803030\n",
            "8                              make     2022.0    155.033449\n",
            "9   maxaxaxaxaxaxaxaxaxaxaxaxaxaxax     3317.0      0.000000\n",
            "10                             need        0.0    151.507824\n",
            "11                              new     2571.0    183.042900\n",
            "12                           people     3997.0    236.651469\n",
            "13                          problem        0.0    145.826753\n",
            "14                            right     1810.0    147.990918\n",
            "15                             said     1739.0      0.000000\n",
            "16                              say     1844.0      0.000000\n",
            "17                           thanks        0.0    196.446331\n",
            "18                            think     2999.0    238.483592\n",
            "19                             time     2800.0    188.088591\n",
            "20                              use     3161.0    211.707362\n",
            "21                             used     1865.0      0.000000\n",
            "22                             want        0.0    147.215791\n",
            "23                              way     1991.0    152.121745\n"
          ]
        }
      ],
      "source": [
        "from sklearn.datasets import fetch_20newsgroups\n",
        "from sklearn.feature_extraction.text import CountVectorizer, TfidfVectorizer\n",
        "import pandas as pd\n",
        "import numpy as np\n",
        "import re\n",
        "\n",
        "newsgroups = fetch_20newsgroups(subset='train', remove=('headers', 'footers', 'quotes'))\n",
        "df = pd.DataFrame({'Text': newsgroups.data, 'Category': newsgroups.target})\n",
        "print(\"Dataset Loaded Successfully!\")\n",
        "print(\"Shape:\", df.shape)\n",
        "print(\"\\nSample Data:\\n\", df.head())\n",
        "\n",
        "# c.(removing non-alphabetic characters, lowercase, trim spaces)\n",
        "def clean_text(text):\n",
        "    text = re.sub(r'[^a-zA-Z\\s]', '', text)\n",
        "    text = text.lower()\n",
        "    text = text.strip()\n",
        "    return text\n",
        "\n",
        "df['Cleaned_Text'] = df['Text'].apply(clean_text)\n",
        "\n",
        "print(\"\\nData cleaned successfully!\")\n",
        "print(\"Sample cleaned text:\\n\", df['Cleaned_Text'].iloc[0][:500])\n",
        "\n",
        "# d.Bag of Words (BoW) model\n",
        "vectorizer_bow = CountVectorizer(stop_words='english', max_features=1000)\n",
        "bow_matrix = vectorizer_bow.fit_transform(df['Cleaned_Text'])\n",
        "\n",
        "bow_feature_names = vectorizer_bow.get_feature_names_out()\n",
        "bow_word_freq = np.asarray(bow_matrix.sum(axis=0)).ravel()\n",
        "bow_freq_df = pd.DataFrame({'Word': bow_feature_names, 'Frequency': bow_word_freq})\n",
        "bow_top20 = bow_freq_df.sort_values(by='Frequency', ascending=False).head(20)\n",
        "\n",
        "print(\"Top 20 Words (BoW):\")\n",
        "print(bow_top20)\n",
        "\n",
        "# e.TF-IDF model\n",
        "vectorizer_tfidf = TfidfVectorizer(stop_words='english', max_features=1000)\n",
        "tfidf_matrix = vectorizer_tfidf.fit_transform(df['Cleaned_Text'])\n",
        "\n",
        "tfidf_feature_names = vectorizer_tfidf.get_feature_names_out()\n",
        "tfidf_word_scores = np.asarray(tfidf_matrix.sum(axis=0)).ravel()\n",
        "tfidf_score_df = pd.DataFrame({'Word': tfidf_feature_names, 'TF_IDF_Score': tfidf_word_scores})\n",
        "tfidf_top20 = tfidf_score_df.sort_values(by='TF_IDF_Score', ascending=False).head(20)\n",
        "\n",
        "print(\"\\nTop 20 Words (TF-IDF):\")\n",
        "print(tfidf_top20)\n",
        "\n",
        "# f. Compare BoW and TF-IDF models\n",
        "comparison_df = pd.merge(bow_top20, tfidf_top20, on='Word', how='outer').fillna(0)\n",
        "print(\"\\nComparison of Top 20 Words in BoW vs TF-IDF:\")\n",
        "print(comparison_df)\n"
      ]
    },
    {
      "cell_type": "code",
      "execution_count": null,
      "metadata": {
        "id": "4ml8PJJ8_Lx-"
      },
      "outputs": [],
      "source": []
    },
    {
      "cell_type": "markdown",
      "metadata": {
        "id": "n_pDpIWP-jLu"
      },
      "source": [
        "3. Consider the review and score of the amazon musical instruments as given below and do\n",
        "the following operations\n",
        "![image.png](data:image/png;base64,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)\n",
        "\n",
        "a. import the necessary library\n",
        "\n",
        "b. clean the given reviewText\n",
        "\n",
        "c. construct the data frame with TF-IDF model for extracting independent variables.\n",
        "\n",
        "d. do the classification (Logistic Regression, NaiveBayes, KNN,  decision tree classifier random forest classifier, GBM, XGBoost) and Regression (linear regression, decision\n",
        "tree regression, random forest regressor, Gradient Boosting Regressor, XGBRegressor) for reviewText and Overall.\n",
        "\n",
        "e. Evaluate the models for developed using parameters such as confusion matrix,\n",
        "accuracy, precision, recall, F1 plot curve and ROC curve."
      ]
    },
    {
      "cell_type": "code",
      "execution_count": null,
      "metadata": {
        "colab": {
          "base_uri": "https://localhost:8080/",
          "height": 1000
        },
        "id": "mdom5LRm6Urf",
        "outputId": "d97b6f35-17d5-4b3d-b150-73b53bf92f0e"
      },
      "outputs": [
        {
          "name": "stdout",
          "output_type": "stream",
          "text": [
            "CLASSIFICATION RESULTS\n",
            "\n",
            "Logistic Regression:\n",
            "Accuracy: 0.00\n",
            "              precision    recall  f1-score   support\n",
            "\n",
            "           3       0.00      0.00      0.00       1.0\n",
            "           4       0.00      0.00      0.00       2.0\n",
            "           5       0.00      0.00      0.00       0.0\n",
            "\n",
            "    accuracy                           0.00       3.0\n",
            "   macro avg       0.00      0.00      0.00       3.0\n",
            "weighted avg       0.00      0.00      0.00       3.0\n",
            "\n",
            "------------------------------------------------------------\n",
            "Naive Bayes:\n",
            "Accuracy: 0.00\n",
            "              precision    recall  f1-score   support\n",
            "\n",
            "           3       0.00      0.00      0.00       1.0\n",
            "           4       0.00      0.00      0.00       2.0\n",
            "           5       0.00      0.00      0.00       0.0\n",
            "\n",
            "    accuracy                           0.00       3.0\n",
            "   macro avg       0.00      0.00      0.00       3.0\n",
            "weighted avg       0.00      0.00      0.00       3.0\n",
            "\n",
            "------------------------------------------------------------\n",
            "KNN:\n",
            "Accuracy: 0.67\n",
            "              precision    recall  f1-score   support\n",
            "\n",
            "           3       0.00      0.00      0.00         1\n",
            "           4       1.00      1.00      1.00         2\n",
            "           5       0.00      0.00      0.00         0\n",
            "\n",
            "    accuracy                           0.67         3\n",
            "   macro avg       0.33      0.33      0.33         3\n",
            "weighted avg       0.67      0.67      0.67         3\n",
            "\n",
            "------------------------------------------------------------\n",
            "Decision Tree:\n",
            "Accuracy: 0.33\n",
            "              precision    recall  f1-score   support\n",
            "\n",
            "           3       0.00      0.00      0.00         1\n",
            "           4       1.00      0.50      0.67         2\n",
            "           5       0.00      0.00      0.00         0\n",
            "\n",
            "    accuracy                           0.33         3\n",
            "   macro avg       0.33      0.17      0.22         3\n",
            "weighted avg       0.67      0.33      0.44         3\n",
            "\n",
            "------------------------------------------------------------\n",
            "Random Forest:\n",
            "Accuracy: 0.00\n",
            "              precision    recall  f1-score   support\n",
            "\n",
            "           3       0.00      0.00      0.00       1.0\n",
            "           4       0.00      0.00      0.00       2.0\n",
            "           5       0.00      0.00      0.00       0.0\n",
            "\n",
            "    accuracy                           0.00       3.0\n",
            "   macro avg       0.00      0.00      0.00       3.0\n",
            "weighted avg       0.00      0.00      0.00       3.0\n",
            "\n",
            "------------------------------------------------------------\n",
            "\n",
            "REGRESSION RESULTS\n",
            "\n",
            "Linear Regression:\n",
            "R² Score: -3.44\n",
            "RMSE: 0.99\n",
            "------------------------------------------------------------\n",
            "Decision Tree Regressor:\n",
            "R² Score: -6.50\n",
            "RMSE: 1.29\n",
            "------------------------------------------------------------\n",
            "Random Forest Regressor:\n",
            "R² Score: -5.07\n",
            "RMSE: 1.16\n",
            "------------------------------------------------------------\n",
            "Gradient Boosting Regressor:\n",
            "R² Score: -6.38\n",
            "RMSE: 1.28\n",
            "------------------------------------------------------------\n"
          ]
        },
        {
          "data": {
            "image/png": "[encoded data removed]",
            "text/plain": [
              "<Figure size 640x480 with 1 Axes>"
            ]
          },
          "metadata": {},
          "output_type": "display_data"
        }
      ],
      "source": [
        "# 1. Import necessary libraries\n",
        "import pandas as pd\n",
        "import numpy as np\n",
        "import re\n",
        "import string\n",
        "from sklearn.model_selection import train_test_split\n",
        "from sklearn.feature_extraction.text import TfidfVectorizer\n",
        "from sklearn.linear_model import LogisticRegression, LinearRegression\n",
        "from sklearn.naive_bayes import MultinomialNB\n",
        "from sklearn.neighbors import KNeighborsClassifier\n",
        "from sklearn.tree import DecisionTreeClassifier, DecisionTreeRegressor\n",
        "from sklearn.ensemble import RandomForestClassifier, RandomForestRegressor, GradientBoostingRegressor\n",
        "from sklearn.metrics import accuracy_score, classification_report, confusion_matrix, roc_auc_score, roc_curve, r2_score, mean_squared_error\n",
        "import matplotlib.pyplot as plt\n",
        "import seaborn as sns\n",
        "import warnings\n",
        "warnings.filterwarnings('ignore')\n",
        "\n",
        "data = {\n",
        "    'reviewText': [\n",
        "        \"Not much to write about here, but it does exactly what it should.\",\n",
        "        \"The product does exactly as it should and is quite good.\",\n",
        "        \"The primary job of this device is to block the noise.\",\n",
        "        \"Nice windscreen protects my MXL mic and prevents popping.\",\n",
        "        \"This pop filter is great. It looks and performs well.\",\n",
        "        \"So good that I bought another one. Love the hardware.\",\n",
        "        \"I have used monster cables for years, and with no issues.\",\n",
        "        \"I now use this cable to run from the output of my mic.\",\n",
        "        \"Perfect for my Epiphone Sheraton II. Monster quality.\",\n",
        "        \"Monster makes the best cables and a lifetime warranty.\"\n",
        "    ],\n",
        "    'Overall': [5, 4, 3, 5, 4, 4, 5, 5, 3, 4]\n",
        "}\n",
        "\n",
        "df = pd.DataFrame(data)\n",
        "\n",
        "# 3. Clean the text data\n",
        "def clean_text(text):\n",
        "    text = text.lower()  # lowercase\n",
        "    text = re.sub(r'[^\\w\\s]', '', text)  # remove punctuation\n",
        "    text = re.sub(r'\\d+', '', text)  # remove numbers\n",
        "    text = text.strip()\n",
        "    return text\n",
        "\n",
        "df['cleaned_text'] = df['reviewText'].apply(clean_text)\n",
        "\n",
        "# 4. Feature Extraction using TF-IDF\n",
        "tfidf = TfidfVectorizer(max_features=100)\n",
        "X = tfidf.fit_transform(df['cleaned_text']).toarray()\n",
        "y_class = df['Overall']  # for classification\n",
        "y_reg = df['Overall']    # for regression\n",
        "\n",
        "# Split dataset\n",
        "X_train, X_test, y_train_cls, y_test_cls = train_test_split(X, y_class, test_size=0.3, random_state=42)\n",
        "X_train_r, X_test_r, y_train_r, y_test_r = train_test_split(X, y_reg, test_size=0.3, random_state=42)\n",
        "\n",
        "# 5. Classification Models\n",
        "classifiers = {\n",
        "    \"Logistic Regression\": LogisticRegression(),\n",
        "    \"Naive Bayes\": MultinomialNB(),\n",
        "    \"KNN\": KNeighborsClassifier(),\n",
        "    \"Decision Tree\": DecisionTreeClassifier(),\n",
        "    \"Random Forest\": RandomForestClassifier(),\n",
        "}\n",
        "\n",
        "print(\"CLASSIFICATION RESULTS\\n\")\n",
        "for name, model in classifiers.items():\n",
        "    model.fit(X_train, y_train_cls)\n",
        "    y_pred = model.predict(X_test)\n",
        "    print(f\"{name}:\\nAccuracy: {accuracy_score(y_test_cls, y_pred):.2f}\")\n",
        "    print(classification_report(y_test_cls, y_pred))\n",
        "    print(\"-\" * 60)\n",
        "\n",
        "# 6. Regression Models\n",
        "regressors = {\n",
        "    \"Linear Regression\": LinearRegression(),\n",
        "    \"Decision Tree Regressor\": DecisionTreeRegressor(),\n",
        "    \"Random Forest Regressor\": RandomForestRegressor(),\n",
        "    \"Gradient Boosting Regressor\": GradientBoostingRegressor(),\n",
        "}\n",
        "\n",
        "print(\"\\nREGRESSION RESULTS\\n\")\n",
        "for name, model in regressors.items():\n",
        "    model.fit(X_train_r, y_train_r)\n",
        "    y_pred_r = model.predict(X_test_r)\n",
        "    print(f\"{name}:\\nR² Score: {r2_score(y_test_r, y_pred_r):.2f}\")\n",
        "    print(f\"RMSE: {np.sqrt(mean_squared_error(y_test_r, y_pred_r)):.2f}\")\n",
        "    print(\"-\" * 60)\n",
        "\n",
        "# 7. Visualization for one classifier (Logistic Regression ROC Curve)\n",
        "log_model = LogisticRegression()\n",
        "log_model.fit(X_train, y_train_cls)\n",
        "y_prob = log_model.predict_proba(X_test)\n",
        "fpr, tpr, _ = roc_curve(y_test_cls, y_prob[:, 1], pos_label=4)\n",
        "plt.plot(fpr, tpr, color='blue', label='Logistic Regression ROC')\n",
        "plt.plot([0, 1], [0, 1], linestyle='--', color='black')\n",
        "plt.title('ROC Curve - Logistic Regression')\n",
        "plt.xlabel('False Positive Rate')\n",
        "plt.ylabel('True Positive Rate')\n",
        "plt.legend()\n",
        "plt.show()\n"
      ]
    },
    {
      "cell_type": "markdown",
      "metadata": {
        "id": "HmgcSwozBPt1"
      },
      "source": [
        "\n",
        "4. Download the IMDB dataset for sentiment analysis from the given link and do the\n",
        "following operations:\n",
        "https://www.kaggle.com/columbine/imdb-dataset-sentiment-analysis-in-csv\n",
        "format?select=Test.csv\n",
        "\n",
        "a. Import the necessary libraries\n",
        "\n",
        "b. Load the CSV file\n",
        "\n",
        "c. Fetch the text column from the DataFrame\n",
        "\n",
        "d. Extract and remove the handles from the fetched data\n",
        "\n",
        "e. Perform sentiment analysis and get the new DataFrame\n",
        "\n",
        "f. Join both the Dataframes\n",
        "\n",
        "g. Apply appropriate conditions and view positive, negative and neutral tweets"
      ]
    },
    {
      "cell_type": "code",
      "execution_count": null,
      "metadata": {
        "colab": {
          "base_uri": "https://localhost:8080/"
        },
        "id": "ZIGcRiyG_OGo",
        "outputId": "f12872d7-e0ef-4011-e347-2597f7d7ba41"
      },
      "outputs": [
        {
          "name": "stdout",
          "output_type": "stream",
          "text": [
            "Dataset Loaded Successfully!\n",
            "                                                text  label\n",
            "0  I always wrote this series off as being a comp...      0\n",
            "1  1st watched 12/7/2002 - 3 out of 10(Dir-Steve ...      0\n",
            "2  This movie was so poorly written and directed ...      0\n",
            "3  The most interesting thing about Miryang (Secr...      1\n",
            "4  when i first read about \"berlin am meer\" i did...      0\n",
            "\n",
            "Sample Text Data:\n",
            " 0    I always wrote this series off as being a comp...\n",
            "1    1st watched 12/7/2002 - 3 out of 10(Dir-Steve ...\n",
            "2    This movie was so poorly written and directed ...\n",
            "3    The most interesting thing about Miryang (Secr...\n",
            "4    when i first read about \"berlin am meer\" i did...\n",
            "Name: text, dtype: object\n",
            "\n",
            "Handles removed successfully!\n",
            "                                                text  \\\n",
            "0  I always wrote this series off as being a comp...   \n",
            "1  1st watched 12/7/2002 - 3 out of 10(Dir-Steve ...   \n",
            "2  This movie was so poorly written and directed ...   \n",
            "3  The most interesting thing about Miryang (Secr...   \n",
            "4  when i first read about \"berlin am meer\" i did...   \n",
            "\n",
            "                                          clean_text  \n",
            "0  I always wrote this series off as being a comp...  \n",
            "1  1st watched 12/7/2002 - 3 out of 10(Dir-Steve ...  \n",
            "2  This movie was so poorly written and directed ...  \n",
            "3  The most interesting thing about Miryang (Secr...  \n",
            "4  when i first read about \"berlin am meer\" i did...  \n",
            "\n",
            "Sentiment Analysis Completed!\n",
            "                                          clean_text Sentiment\n",
            "0  I always wrote this series off as being a comp...  Positive\n",
            "1  1st watched 12/7/2002 - 3 out of 10(Dir-Steve ...  Positive\n",
            "2  This movie was so poorly written and directed ...  Negative\n",
            "3  The most interesting thing about Miryang (Secr...  Positive\n",
            "4  when i first read about \"berlin am meer\" i did...  Positive\n",
            "\n",
            "Sentiment Distribution:\n",
            "Sentiment\n",
            "Positive    3783\n",
            "Negative    1216\n",
            "Neutral        1\n",
            "Name: count, dtype: int64\n",
            "\n",
            "Sample Positive Tweets:\n",
            " ['I always wrote this series off as being a complete stink-fest because Jim Belushi was involved in it, and heavily. But then one day a tragic happenstance occurred. After a White Sox game ended I realized that the remote was all the way on the other side of the room somehow. Now I could have just gotten up and walked across the room to get the remote, or even to the TV to turn the channel. But then why not just get up and walk across the country to watch TV in another state? \"Nuts to that\", I said. So I decided to just hang tight on the couch and take whatever Fate had in store for me. What Fate had in store was an episode of this show, an episode about which I remember very little except that I had once again made a very broad, general sweeping blanket judgment based on zero objective or experiential evidence with nothing whatsoever to back my opinions up with, and once again I was completely right! This show is a total crud-pie! Belushi has all the comedic delivery of a hairy lighthouse foghorn. The women are physically attractive but too Stepford-is to elicit any real feeling from the viewer. There is absolutely no reason to stop yourself from running down to the local TV station with a can of gasoline and a flamethrower and sending every copy of this mutt howling back to hell. <br /><br />Except.. <br /><br />Except for the wonderful comic sty lings of Larry Joe Campbell, America\\'s Greatest Comic Character Actor. This guy plays Belushi\\'s brother-in-law, Andy, and he is gold. How good is he really? Well, aside from being funny, his job is to make Belushi look good. That\\'s like trying to make butt warts look good. But Campbell pulls it off with style. Someone should invent a Nobel Prize in Comic Buffoonery so he can win it every year. Without Larry Joe this show would consist of a slightly vacant looking Courtney Thorne-Smith smacking Belushi over the head with a frying pan while he alternately beats his chest and plays with the straw on the floor of his cage. 5 stars for Larry Joe Campbell designated Comedic Bacon because he improves the flavor of everything he\\'s in!', \"1st watched 12/7/2002 - 3 out of 10(Dir-Steve Purcell): Typical Mary Kate & Ashley fare with a few more kisses. It looks to me like the girls are getting pretty tired of this stuff and it will be interesting what happens to them if they ever decide to split up and go there own ways. In this episode of their adventures they are interns in Rome for a `fashion' designer who puts them right into the mailroom to learn what working hard is all about(I guess..). Besides the typical flirtations with boys there is nothing much else except the Rome scenario until about ¾ way into the movie when it's finally revealed why they are getting fired, then re-hired, then fired again, then re-hired again. This is definetly made by people who don't understand the corporate world and it shows in their interpretation of it. Maybe the real world will be their next adventure(if there is one.). Even my kids didn't seem to care for this boring `adventure' in the make-believe. Let's see they probably only have a couple of years till their legal adults. We'll see what happens then.\", 'The most interesting thing about Miryang (Secret Sunshine) is the actors. Jeon Do-yeon, as Lee Shin-ae, the main character, is a woman with a young son whose husband has died in a tragic accident, and who leaves Seoul to live in Miryang, which was his home town, with her young son. Jeon\\'s face is very changeable. She is girlish, flirtatious, elegant, aged and sad, desperate and joyous, with it and terribly isolated by turns, and it\\'s all in her face. The film also stars Song Kang-ho as Kim, a man who meets her when her car breaks down coming into Miryang, who happens to run a garage in town, and who follows her around all the time thereafter, despite her apparent lack of interest in his attentions. Song is the biggest star in Korea right now, renowned for his work with Park Chan-wook and Bong Joon-ho (Sympathy for Mr. Vengeance; Memories of Murder and The Host). And yet here he plays a throwaway character, almost a forgotten man. But of course he makes him interesting and curiously appealing. He is the essential ballast to keep Jeon\\'s character from floating away.<br /><br />Lee Shin-ae is a piano teacher. She comes to the new town, which is a neutral place, a kind of poor-man\\'s Seoul, a town \"just like anywhere else,\" as Kim says (just as he is in a way just like anyone else). Her little boy is sprightly, as little boys are, but plainly damaged and withdrawn at times too. His father used to snore, and when he misses him he lies awake, pretending to snore. He goes to school, and Shin-ae meets parents and students and shopkeepers. There is a sense of place in the film, even though the place is in a sense \"anywhere.\" People speak in the local dialect, and everyone knows everything, and Shin-ae\\'s Seoul origin is immediately noticed. Is life really harsher here, away from the big city and its sophistication? Shin-ae seems not to realize the danger she is in.<br /><br />Something terrible happens. And Shin-ae doesn\\'t necessarily deal with it in the best possible way. But it happens and she must face the consequences. But she can\\'t. She goes to pieces. A perpetrator is caught, but that\\'s no consolation. Eventually she becomes so despairing, she relents and goes to a born-again Christian meeting an acquaintance has been pressing her to attend. She finds peace and release with this. But when she decides not only to forgive the perpetrator but to go to the prison to tell him so, that experience is full of ironies and it destroys her all over again. She becomes embittered and desperate and she no longer finds solace in religion. And it gets worse than that.<br /><br />Jeon Do-yeon gives her all in this extremely demanding and protean role. Lee Chang-dong may be a very good director. If an actor of the stature of Song Kang-ho expresses enormous admiration for him, that is convincing. According to Scott Foundas of LA Weekly, Lee\\'s first three films, Green Fish (1997), Peppermint Candy (2000) and Oasis (2002) have marked him out as \"one of the leading figures of his country\\'s recent cinematic renaissance.\" But this is not as successful a film as those of other Korean directors whose work I\\'ve seen, such as Yong Sang-Soo, Bong Joon-ho, and the prodigiously, almost perversely gifted Park Chan-wook. It may indeed begin as Foundas says as a kind of \"Asiatic Alice Doesn\\'t Live Here Anymore\" and then \"abruptly and without warning\" turns into \"something of a thriller, and some time after that a nearly Bressonian study in human suffering.\" But that progression not only seems random and indigestible; the film sags and loses its momentum toward the end and then simply fizzles out, with no sense of an ending. There are also weaknesses in the action. Shin-ae takes foolish chances with her son, and makes bad choices all along. If she is destined for madness like Betty in Jean-Jacques Beineix\\'s Betty Blue, which might explain her peculiar and mistaken choices, that isn\\'t something that is properly developed. This is an interesting film, certainly a disturbing one, but one that leaves one doubtful and dissatisfied, after putting one through an emotional wringer.<br /><br />An official selection of the New York Film Festival presented at Lincoln Center, 2007\\x97an event that has done right by Korean filmmakers in the recent past.']\n",
            "\n",
            "Sample Negative Tweets:\n",
            " ['This movie was so poorly written and directed I fell asleep 30 minutes through the movie. The jokes in the movie are corny and even though the plot is interesting at some angles, it is too far fetched and at some points- ridiculous. If you are 11 or older you will overlook the writing in the movie and be disappointed, but if you are 10 or younger this is a film that will capture your attention and be amazed with all the stunts (which I might add are poorly done) and wish you were some warrior to. The casting in this movie wasn\\'t very good, and the music was very disappointing because it was like they were trying to build up the tension but it didn\\'t fit at all. On a scale of 1-10 (10 being excellent, 1 being horrible) the acting in this movie is a 4. Brenda Song is talented in comedy, but with this kind of movie, in some of the more serious scenes, her acting was laughable. When she made some of her \"fighting\" poses, I started laughing out loud. I think the worst thing about this movie is definitely the directing, for example, the part where her enemy turns out to be the person the evil villain is possesing, how her voice turns dark and evil, I think that was incredibly stupid, and how Wendy\\'s (Brenda Song)teachers were all her teachers at school being possessed by monks, that was pretty ridiculous to. So to sumamrize it all, a disappointing movie, but okay if you\\'re 10 or under.', \"IT IS A PIECE OF CRAP! not funny at all. during the whole movie nothing ever happens. i almost fell asleep, which in my case happens only if a movie is rally bad. (that is why it didn't get 1 (awful) out of 10 but 2).don't be fooled, like i was, by first review. a waste of money and your time! spend it on other stuff. at this point i'm finished with my review but i have to fill in at least ten lines of text so i will go on.... (ctrl+c, ctrl+v) :))) IT IS A PIECE OF CRAP! not funny at all. during the whole movie nothing ever happens. i almost fell asleep, which in my case happens only if a movie is rally bad. (that is why it didn't get 1 (awful) out of 10 but 2).don't be fooled, like i was, by first review. a waste of money and your time! spend it on other stuff. IT IS A PIECE OF CRAP! not funny at all. during the whole movie nothing ever happens. i almost fell asleep, which in my case happens only if a movie is rally bad. (that is why it didn't get 1 (awful) out of 10 but 2).don't be fooled, like i was, by first review. a waste of money and your time! spend it on other stuff.\", 'Didn\\'t the writer for this movie see the other three? I loved the original, I thought 2 was the best, I tolerated 3 (it was OK, nothing special). But I HATED this one. Who dare they kill off UG? This was certainly not the Ug who had been almost like a brother to Charlie in number 2. Remember his speech? Charlie said, \"You wouldn\\'t just leave me on Earth, would you\". Ug replied, \"Charlie, Bounty Hunter\", saying that he was now one of them now. How dare the writers ignore this special bond between them and turn him into a baddie who get\\'s killed by Charlie (in a particularly awkward scene) just because they realized the movie was getting boring. In fact for the first 20 minutes, we get a new cast and have to wait this long until we again find out what happened to Charlie, who was the hero we\\'ve been waiting to see. I kept waiting saying, \"Come on, when\\'s Charlie going to appear?\" Angela Basset must be doing her best to deny she was ever in this Turkey. Moving it to the future eliminates the possibility of ever seeing a sequel with the original cast or in our time. I think the writers decided, that their movie was going to be the last and they could do whatever they wanted. This movie is totally out of line with the first two. And it didn\\'t even seem like it was written by the same people who made 3. 3 at least had humor and could easily be seen by younger Children. 4 is just ugly and mean-spirited (Eric DaRe) is particularly cruel and unnecessary. I hated this movie. Hated, hated, hated it. I hated the fact that anyone could like it and I hated the fact that it ruined what was one of my favorite camp classics. I give this a one start simply because IMDb.com won\\'t let me give it a zero.']\n",
            "\n",
            "Sample Neutral Tweets:\n",
            " ['We also found this movie on the discount rack and made the mistake of purchasing it because Sandra Bullock was featured on the cover. The cinematography was terrible and the back of the DVD box told more about the plot than the movie itself. Oh and I love the Uzi cam....NOT.<br /><br />']\n"
          ]
        }
      ],
      "source": [
        "# a. Import the necessary libraries\n",
        "import pandas as pd\n",
        "import re\n",
        "from textblob import TextBlob\n",
        "\n",
        "# b. Load the CSV file\n",
        "df = pd.read_csv(\"Test.csv\")\n",
        "print(\"Dataset Loaded Successfully!\")\n",
        "print(df.head())\n",
        "\n",
        "# c. Fetch the text column from the DataFrame\n",
        "text_data = df['text']    \n",
        "print(\"\\nSample Text Data:\\n\", text_data.head())\n",
        "\n",
        "# d. Extract and remove the handles from the fetched data\n",
        "# Handles are strings like @username (used in tweets)\n",
        "def remove_handles(text):\n",
        "    return re.sub(r'@\\w+', '', text)\n",
        "\n",
        "df['clean_text'] = text_data.apply(remove_handles)\n",
        "\n",
        "print(\"\\nHandles removed successfully!\")\n",
        "print(df[['text', 'clean_text']].head())\n",
        "\n",
        "# e. Perform sentiment analysis using TextBlob\n",
        "def get_sentiment(text):\n",
        "    polarity = TextBlob(text).sentiment.polarity\n",
        "    if polarity > 0:\n",
        "        return \"Positive\"\n",
        "    elif polarity < 0:\n",
        "        return \"Negative\"\n",
        "    else:\n",
        "        return \"Neutral\"\n",
        "\n",
        "df['Sentiment'] = df['clean_text'].apply(get_sentiment)\n",
        "\n",
        "print(\"\\nSentiment Analysis Completed!\")\n",
        "print(df[['clean_text', 'Sentiment']].head())\n",
        "\n",
        "# f. Join both DataFrames\n",
        "final_df = df\n",
        "\n",
        "# g. Apply conditions and view positive, negative, and neutral tweets\n",
        "positive_df = final_df[final_df['Sentiment'] == 'Positive']\n",
        "negative_df = final_df[final_df['Sentiment'] == 'Negative']\n",
        "neutral_df = final_df[final_df['Sentiment'] == 'Neutral']\n",
        "\n",
        "print(\"\\nSentiment Distribution:\")\n",
        "print(final_df['Sentiment'].value_counts())\n",
        "\n",
        "print(\"\\nSample Positive Tweets:\\n\", positive_df['clean_text'].head(3).to_list())\n",
        "print(\"\\nSample Negative Tweets:\\n\", negative_df['clean_text'].head(3).to_list())\n",
        "print(\"\\nSample Neutral Tweets:\\n\", neutral_df['clean_text'].head(3).to_list())\n"
      ]
    }
  ],
  "metadata": {
    "colab": {
      "provenance": []
    },
    "kernelspec": {
      "display_name": "Python 3",
      "name": "python3"
    },
    "language_info": {
      "name": "python"
    }
  },
  "nbformat": 4,
  "nbformat_minor": 0
}
